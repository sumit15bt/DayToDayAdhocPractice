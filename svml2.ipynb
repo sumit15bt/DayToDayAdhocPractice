{
 "cells": [
  {
   "cell_type": "code",
   "execution_count": 4,
   "metadata": {},
   "outputs": [
    {
     "name": "stdout",
     "output_type": "stream",
     "text": [
      "[2]\n"
     ]
    }
   ],
   "source": [
    "from sklearn.datasets import load_iris\n",
    "import numpy as np\n",
    "from sklearn import tree\n",
    "iris = load_iris()\n",
    "x=[0,50,100]\n",
    "#training the data\n",
    "train_data = np.delete (iris.data,x,axis=0)\n",
    "train_target = np.delete (iris.target,x)\n",
    "#testing the data\n",
    "test_data = iris.data[x]\n",
    "test_target = iris.target[x]\n",
    "#classifier called\n",
    "clf = tree.DecisionTreeClassifier()\n",
    "trained = clf.fit(train_data,train_target)\n",
    "#prediction\n",
    "predicted = trained.predict([[-56. , 3.2 , 4.2 , 1.7]])\n",
    "print(predicted)"
   ]
  },
  {
   "cell_type": "code",
   "execution_count": 23,
   "metadata": {},
   "outputs": [
    {
     "name": "stdout",
     "output_type": "stream",
     "text": [
      "[1]\n"
     ]
    }
   ],
   "source": [
    "\n",
    "\n",
    "#!/usr/bin/python3\n",
    "import time\n",
    "#import matplotlib.pyplot as plt\n",
    "from sklearn.datasets  import load_iris\n",
    "from  sklearn  import  tree\n",
    "import numpy  as np\n",
    "#  loading  iris data\n",
    "iris=load_iris()\n",
    "\n",
    "\n",
    "x=[0,50,100]\n",
    "\n",
    "#  removing  exactly one  data from each flower \n",
    "train_data=np.delete(iris.data,x,axis=0)\n",
    "\n",
    "#  removing the same from target \n",
    "train_target=np.delete(iris.target,x)\n",
    "#  testing  data  \n",
    "test_data=iris.data[x]\n",
    "test_target=iris.target[x]\n",
    "\n",
    "#  calling  classifier \n",
    "clf=tree.DecisionTreeClassifier()\n",
    "trained=clf.fit(train_data,train_target)\n",
    "\n",
    "#  making  prediction \n",
    "predicted=trained.predict([[7. , 3.2, 4.7, 1.4]])\n",
    "print(predicted)\n",
    "\n"
   ]
  },
  {
   "cell_type": "code",
   "execution_count": 22,
   "metadata": {},
   "outputs": [
    {
     "name": "stdout",
     "output_type": "stream",
     "text": [
      "[0 0 0 1 1 1 2 2 0]\n"
     ]
    }
   ],
   "source": [
    "import time\n",
    "from sklearn.datasets import load_iris\n",
    "from sklearn import tree\n",
    "import numpy  as np\n",
    "\n",
    "data=load_iris()\n",
    "x=[0,6,49,50,98,99,100,135,8]\n",
    "\n",
    "train_data=np.delete(data.data,x,axis=0)\n",
    "train_target=np.delete(data.target,x)\n",
    "\n",
    "test_data=data.data[x]\n",
    "test_target=data.target[x]\n",
    "\n",
    "clf=tree.DecisionTreeClassifier()\n",
    "trained=clf.fit(train_data,train_target)\n",
    "try:\n",
    "    predicted=trained.predict(data.data[x])\n",
    "    print(predicted)\n",
    "except IndexError:\n",
    "    print(\"some  Input error\")"
   ]
  },
  {
   "cell_type": "code",
   "execution_count": null,
   "metadata": {},
   "outputs": [],
   "source": []
  }
 ],
 "metadata": {
  "kernelspec": {
   "display_name": "Python 3",
   "language": "python",
   "name": "python3"
  },
  "language_info": {
   "codemirror_mode": {
    "name": "ipython",
    "version": 3
   },
   "file_extension": ".py",
   "mimetype": "text/x-python",
   "name": "python",
   "nbconvert_exporter": "python",
   "pygments_lexer": "ipython3",
   "version": "3.5.2"
  }
 },
 "nbformat": 4,
 "nbformat_minor": 2
}
