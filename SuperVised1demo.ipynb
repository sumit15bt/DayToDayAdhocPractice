{
 "cells": [
  {
   "cell_type": "code",
   "execution_count": 1,
   "metadata": {},
   "outputs": [
    {
     "name": "stdout",
     "output_type": "stream",
     "text": [
      "enter weight of fruit =  2839\n",
      "enter 0 smooth and 1 for rough =  2\n",
      "['orange  hai']\n"
     ]
    }
   ],
   "source": [
    "from sklearn import tree\n",
    "import os\n",
    "# apple=0,orange=1\n",
    "data=[[100,0],[135,0],[135,1],[160,1]]\n",
    "output=[\"apple hai\",\"apple hai\",\"orange hai\",\"orange  hai\"]\n",
    "algo=tree.DecisionTreeClassifier()\n",
    "train_algo=algo.fit(data,output)\n",
    "weight=input(\"enter weight of fruit =  \")\n",
    "surface=input(\"enter 0 smooth and 1 for rough =  \")\n",
    "predict=train_algo.predict([[weight,surface]])\n",
    "#os.system(\"echo \"+predict+\"|festival --tts\")\n",
    "print(predict)\n"
   ]
  },
  {
   "cell_type": "code",
   "execution_count": null,
   "metadata": {},
   "outputs": [],
   "source": []
  },
  {
   "cell_type": "markdown",
   "metadata": {},
   "source": []
  }
 ],
 "metadata": {
  "kernelspec": {
   "display_name": "Python 3",
   "language": "python",
   "name": "python3"
  },
  "language_info": {
   "codemirror_mode": {
    "name": "ipython",
    "version": 3
   },
   "file_extension": ".py",
   "mimetype": "text/x-python",
   "name": "python",
   "nbconvert_exporter": "python",
   "pygments_lexer": "ipython3",
   "version": "3.5.2"
  }
 },
 "nbformat": 4,
 "nbformat_minor": 2
}
